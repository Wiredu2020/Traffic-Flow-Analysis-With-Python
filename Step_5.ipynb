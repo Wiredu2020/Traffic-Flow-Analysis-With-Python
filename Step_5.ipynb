{
 "cells": [
  {
   "cell_type": "code",
   "execution_count": null,
   "id": "6d0c06f5",
   "metadata": {},
   "outputs": [],
   "source": [
    "import Step_4\n",
    "\n",
    "density = Step_4.deensity\n",
    "speed = Step_4.speed\n",
    "TimeAll = Step_4.TimeAll\n",
    "TimeAllz = Step_4.TimeAllz\n",
    "XvalAll = Step_4.XvalAll\n",
    "Time = Step_4.Time\n",
    "\n",
    "\n",
    "\n",
    "ht = 0.5\n",
    "vt = 0.7\n",
    "vm = 0.2\n",
    "hm = 0.07"
   ]
  }
 ],
 "metadata": {
  "kernelspec": {
   "display_name": "Python 3 (ipykernel)",
   "language": "python",
   "name": "python3"
  },
  "language_info": {
   "codemirror_mode": {
    "name": "ipython",
    "version": 3
   },
   "file_extension": ".py",
   "mimetype": "text/x-python",
   "name": "python",
   "nbconvert_exporter": "python",
   "pygments_lexer": "ipython3",
   "version": "3.9.7"
  }
 },
 "nbformat": 4,
 "nbformat_minor": 5
}
